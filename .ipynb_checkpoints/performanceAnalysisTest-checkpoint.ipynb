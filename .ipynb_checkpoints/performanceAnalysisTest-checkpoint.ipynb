{
 "cells": [
  {
   "cell_type": "code",
   "execution_count": 64,
   "metadata": {
    "collapsed": true
   },
   "outputs": [],
   "source": [
    "from pymongo import MongoClient\n",
    "import datetime\n",
    "import pandas as pd\n",
    "import numpy as np\n",
    "import matplotlib.pyplot as plt\n",
    "%matplotlib inline"
   ]
  },
  {
   "cell_type": "code",
   "execution_count": 65,
   "metadata": {
    "collapsed": false
   },
   "outputs": [
    {
     "name": "stdout",
     "output_type": "stream",
     "text": [
      "using local config file\n"
     ]
    }
   ],
   "source": [
    "\n",
    "\n",
    "try:\n",
    "    import config\n",
    "    print('using local config file')\n",
    "    mongodb_uri = config.mongodb_uri\n",
    "except:\n",
    "    print('using environment variable')\n",
    "    mongodb_uri = os.getenv('MONGODB_URI')"
   ]
  },
  {
   "cell_type": "code",
   "execution_count": 67,
   "metadata": {
    "collapsed": false
   },
   "outputs": [
    {
     "ename": "SyntaxError",
     "evalue": "invalid syntax (<ipython-input-67-cb740fda8f92>, line 32)",
     "output_type": "error",
     "traceback": [
      "\u001b[0;36m  File \u001b[0;32m\"<ipython-input-67-cb740fda8f92>\"\u001b[0;36m, line \u001b[0;32m32\u001b[0m\n\u001b[0;31m    print('cum\\n'cumulative)\u001b[0m\n\u001b[0m                          ^\u001b[0m\n\u001b[0;31mSyntaxError\u001b[0m\u001b[0;31m:\u001b[0m invalid syntax\n"
     ]
    }
   ],
   "source": [
    "print(\"Analyzing Test Data\")\n",
    "success = True\n",
    "\n",
    "if success:\n",
    "    try:\n",
    "        client = MongoClient(mongodb_uri)\n",
    "        db = client.get_database()\n",
    "    except Exception as e:\n",
    "        print('mongo login error ', str(e))\n",
    "        success = False\n",
    "if success:\n",
    "    try:\n",
    "        dataCursor = db.percentageMoveTest.find(projection={'_id': False},sort=[(\"timestamp\", 1)])\n",
    "    except Exception as e:\n",
    "        print('mongo data cursor error ', str(e))\n",
    "        success = False\n",
    "        \n",
    "if success:\n",
    "    try:\n",
    "        df =  pd.DataFrame(list(dataCursor)).set_index(['timestamp'])\n",
    "    except Exception as e:\n",
    "        print('mongo data cursor error ', str(e))\n",
    "        success = False        \n",
    "        \n",
    "if success:\n",
    "    plt.figure()\n",
    "    df+=1\n",
    "    print('raw\\n',df)\n",
    "    df.plot()\n",
    "    plt.figure()\n",
    "    cumulative = df.cumprod(axis=0)\n",
    "    print('cum\\n',cumulative)\n",
    "    cumulative.plot()"
   ]
  }
 ],
 "metadata": {
  "kernelspec": {
   "display_name": "Python 3",
   "language": "python",
   "name": "python3"
  },
  "language_info": {
   "codemirror_mode": {
    "name": "ipython",
    "version": 3
   },
   "file_extension": ".py",
   "mimetype": "text/x-python",
   "name": "python",
   "nbconvert_exporter": "python",
   "pygments_lexer": "ipython3",
   "version": "3.6.1"
  }
 },
 "nbformat": 4,
 "nbformat_minor": 2
}
