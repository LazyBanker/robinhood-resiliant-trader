{
 "cells": [
  {
   "cell_type": "code",
   "execution_count": 1,
   "metadata": {
    "collapsed": true
   },
   "outputs": [],
   "source": [
    "from pymongo import MongoClient\n",
    "import math\n",
    "import datetime\n",
    "import pandas as pd\n",
    "import numpy as np\n",
    "import matplotlib.pyplot as plt\n",
    "%matplotlib inline"
   ]
  },
  {
   "cell_type": "code",
   "execution_count": 2,
   "metadata": {
    "collapsed": false
   },
   "outputs": [
    {
     "name": "stdout",
     "output_type": "stream",
     "text": [
      "using local config file\n"
     ]
    }
   ],
   "source": [
    "def divtd(td1, td2):\n",
    "    us1 = td1.microseconds + 1000000 * (td1.seconds + 86400 * td1.days)\n",
    "    us2 = td2.microseconds + 1000000 * (td2.seconds + 86400 * td2.days)\n",
    "    return float(us1) / us2\n",
    "\n",
    "try:\n",
    "    import config\n",
    "    print('using local config file')\n",
    "    mongodb_uri = config.mongodb_uri\n",
    "except:\n",
    "    print('using environment variable')\n",
    "    mongodb_uri = os.getenv('MONGODB_URI')"
   ]
  },
  {
   "cell_type": "code",
   "execution_count": 3,
   "metadata": {
    "collapsed": false
   },
   "outputs": [
    {
     "name": "stdout",
     "output_type": "stream",
     "text": [
      "Analyzing Test Data\n"
     ]
    }
   ],
   "source": [
    "print(\"Analyzing Test Data\")\n",
    "success = True\n",
    "\n",
    "if success:\n",
    "    try:\n",
    "        client = MongoClient(mongodb_uri)\n",
    "        db = client.get_database()\n",
    "    except Exception as e:\n",
    "        print('mongo login error ', str(e))\n",
    "        success = False\n",
    "if success:\n",
    "    try:\n",
    "        dataCursor = db.percentageMove.find(projection={'_id': False},sort=[(\"timestamp\", 1)])\n",
    "    except Exception as e:\n",
    "        print('mongo data cursor error ', str(e))\n",
    "        success = False\n",
    "        \n",
    "if success:\n",
    "    try:\n",
    "        df =  pd.DataFrame(list(dataCursor)).set_index(['timestamp'])\n",
    "        increase = df+1\n",
    "        cumulative = increase.cumprod(axis=0)\n",
    "    except Exception as e:\n",
    "        print('mongo data cursor error ', str(e))\n",
    "        success = False        \n",
    "        \n"
   ]
  },
  {
   "cell_type": "code",
   "execution_count": 4,
   "metadata": {
    "collapsed": false,
    "scrolled": true
   },
   "outputs": [
    {
     "name": "stderr",
     "output_type": "stream",
     "text": [
      "/Users/stephan/anaconda/lib/python3.6/site-packages/matplotlib/axes/_base.py:2903: UserWarning: Attempting to set identical left==right results\n",
      "in singular transformations; automatically expanding.\n",
      "left=736587.092559, right=736587.092559\n",
      "  'left=%s, right=%s') % (left, right))\n"
     ]
    },
    {
     "data": {
      "text/plain": [
       "<matplotlib.figure.Figure at 0x116da3a20>"
      ]
     },
     "metadata": {},
     "output_type": "display_data"
    },
    {
     "data": {
      "image/png": "[encoded data removed]",
      "text/plain": [
       "<matplotlib.figure.Figure at 0x116db1240>"
      ]
     },
     "metadata": {},
     "output_type": "display_data"
    },
    {
     "data": {
      "text/plain": [
       "<matplotlib.figure.Figure at 0x116da3be0>"
      ]
     },
     "metadata": {},
     "output_type": "display_data"
    },
    {
     "data": {
      "image/png": "[encoded data removed]",
      "text/plain": [
       "<matplotlib.figure.Figure at 0x116e5bef0>"
      ]
     },
     "metadata": {},
     "output_type": "display_data"
    }
   ],
   "source": [
    "if success:\n",
    "    plt.figure()\n",
    "    increase.plot()\n",
    "    plt.figure()\n",
    "    cumulative.plot()"
   ]
  },
  {
   "cell_type": "code",
   "execution_count": 5,
   "metadata": {
    "collapsed": false
   },
   "outputs": [
    {
     "ename": "ZeroDivisionError",
     "evalue": "float division by zero",
     "output_type": "error",
     "traceback": [
      "\u001b[0;31m---------------------------------------------------------------------------\u001b[0m",
      "\u001b[0;31mZeroDivisionError\u001b[0m                         Traceback (most recent call last)",
      "\u001b[0;32m<ipython-input-5-a5108f37ada1>\u001b[0m in \u001b[0;36m<module>\u001b[0;34m()\u001b[0m\n\u001b[1;32m     23\u001b[0m \u001b[0;34m\u001b[0m\u001b[0m\n\u001b[1;32m     24\u001b[0m     \u001b[0mrawSpySharpe\u001b[0m \u001b[0;34m=\u001b[0m \u001b[0mmeanSpyExcess\u001b[0m\u001b[0;34m/\u001b[0m\u001b[0mstdSpyExcess\u001b[0m\u001b[0;34m\u001b[0m\u001b[0m\n\u001b[0;32m---> 25\u001b[0;31m     \u001b[0mspySharpe\u001b[0m \u001b[0;34m=\u001b[0m \u001b[0mmath\u001b[0m\u001b[0;34m.\u001b[0m\u001b[0msqrt\u001b[0m\u001b[0;34m(\u001b[0m\u001b[0mlen\u001b[0m\u001b[0;34m(\u001b[0m\u001b[0mdf\u001b[0m\u001b[0;34m.\u001b[0m\u001b[0mindex\u001b[0m\u001b[0;34m)\u001b[0m\u001b[0;34m/\u001b[0m\u001b[0mpercentageOfYear\u001b[0m\u001b[0;34m)\u001b[0m\u001b[0;34m*\u001b[0m\u001b[0mrawSpySharpe\u001b[0m\u001b[0;34m\u001b[0m\u001b[0m\n\u001b[0m\u001b[1;32m     26\u001b[0m     \u001b[0mprint\u001b[0m\u001b[0;34m(\u001b[0m\u001b[0;34m'rawSpySharpe = '\u001b[0m\u001b[0;34m,\u001b[0m\u001b[0mrawSpySharpe\u001b[0m\u001b[0;34m)\u001b[0m\u001b[0;34m\u001b[0m\u001b[0m\n\u001b[1;32m     27\u001b[0m     \u001b[0mprint\u001b[0m\u001b[0;34m(\u001b[0m\u001b[0;34m'spySharpe = '\u001b[0m\u001b[0;34m,\u001b[0m\u001b[0mspySharpe\u001b[0m\u001b[0;34m)\u001b[0m\u001b[0;34m\u001b[0m\u001b[0m\n",
      "\u001b[0;31mZeroDivisionError\u001b[0m: float division by zero"
     ]
    }
   ],
   "source": [
    "if success:\n",
    "    df['elapsed'] = df.index-df.index[0]\n",
    "    year = datetime.timedelta(days=365)\n",
    "    percentageOfYear = divtd((df['elapsed'])[-1], year)\n",
    "    \n",
    "    df['spyExcess'] = df['spy']-df['90dayTreasury']\n",
    "    df['tltExcess'] = df['tlt']-df['90dayTreasury']\n",
    "    df['portfolioExcess'] = df['portfolio']-df['90dayTreasury']\n",
    "    df['spyInfoExcess'] = df['portfolio']-df['spy']\n",
    "    df['tltInfoExcess'] = df['portfolio']-df['tlt']\n",
    "    \n",
    "    meanSpyExcess = df['spyExcess'].mean()\n",
    "    meanTltExcess = df['tltExcess'].mean()\n",
    "    meanPortfolioExcess = df['portfolioExcess'].mean()\n",
    "    meanSpyInfoExcess = df['spyInfoExcess'].mean()\n",
    "    meanTltInfoExcess = df['tltInfoExcess'].mean()\n",
    "    \n",
    "    stdSpyExcess = df['spyExcess'].std()\n",
    "    stdTltExcess = df['tltExcess'].std()\n",
    "    stdPortfolioExcess = df['portfolioExcess'].std()\n",
    "    stdSpyInfoExcess = df['spyInfoExcess'].std()\n",
    "    stdTltInfoExcess = df['tltInfoExcess'].std()\n",
    "    \n",
    "    rawSpySharpe = meanSpyExcess/stdSpyExcess\n",
    "    spySharpe = math.sqrt(len(df.index)/percentageOfYear)*rawSpySharpe\n",
    "    print('rawSpySharpe = ',rawSpySharpe)\n",
    "    print('spySharpe = ',spySharpe)\n",
    "    \n",
    "    rawTltSharpe = meanTltExcess/stdTltExcess\n",
    "    tltSharpe = math.sqrt(len(df.index)/percentageOfYear)*rawTltSharpe\n",
    "    print('\\nrawTltSharpe = ',rawTltSharpe)\n",
    "    print('tltSharpe = ',tltSharpe)\n",
    "    \n",
    "    rawPortfolioSharpe = meanPortfolioExcess/stdPortfolioExcess\n",
    "    portfolioSharpe = math.sqrt(len(df.index)/percentageOfYear)*rawPortfolioSharpe\n",
    "    print('\\nrawPortfolioSharpe = ',rawPortfolioSharpe)\n",
    "    print('portfolioSharpe = ',portfolioSharpe)\n",
    "    \n",
    "    rawSpyInfo = meanSpyInfoExcess/stdSpyInfoExcess\n",
    "    spyInfo = math.sqrt(len(df.index)/percentageOfYear)*rawSpyInfo\n",
    "    print('\\nrawSpyInfo = ',rawSpyInfo)\n",
    "    print('spyInfo = ',spyInfo)\n",
    "    \n",
    "    rawTltInfo = meanTltInfoExcess/stdTltInfoExcess\n",
    "    tltInfo = math.sqrt(len(df.index)/percentageOfYear)*rawTltInfo\n",
    "    print('\\nrawTltInfo = ',rawTltInfo)\n",
    "    print('tltInfo = ',tltInfo)"
   ]
  }
 ],
 "metadata": {
  "kernelspec": {
   "display_name": "Python 3",
   "language": "python",
   "name": "python3"
  },
  "language_info": {
   "codemirror_mode": {
    "name": "ipython",
    "version": 3
   },
   "file_extension": ".py",
   "mimetype": "text/x-python",
   "name": "python",
   "nbconvert_exporter": "python",
   "pygments_lexer": "ipython3",
   "version": "3.6.1"
  }
 },
 "nbformat": 4,
 "nbformat_minor": 2
}
